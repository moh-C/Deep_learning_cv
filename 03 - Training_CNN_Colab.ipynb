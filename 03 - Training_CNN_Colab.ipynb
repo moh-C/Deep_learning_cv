{
  "nbformat": 4,
  "nbformat_minor": 0,
  "metadata": {
    "colab": {
      "name": "Webcam.ipynb",
      "provenance": [],
      "collapsed_sections": []
    },
    "kernelspec": {
      "name": "python3",
      "display_name": "Python 3"
    }
  },
  "cells": [
    {
      "cell_type": "code",
      "metadata": {
        "id": "MakCZuZ52uR-",
        "colab_type": "code",
        "outputId": "0a50bc10-5b34-40c1-a5ca-dcd132388f5e",
        "colab": {
          "base_uri": "https://localhost:8080/",
          "height": 34
        }
      },
      "source": [
        "from keras.datasets import mnist\n",
        "import numpy as np\n",
        "import cv2\n",
        "from keras.optimizers import SGD\n",
        "import matplotlib.pyplot as plt"
      ],
      "execution_count": 0,
      "outputs": [
        {
          "output_type": "stream",
          "text": [
            "Using TensorFlow backend.\n"
          ],
          "name": "stderr"
        }
      ]
    },
    {
      "cell_type": "code",
      "metadata": {
        "id": "vRdKfkyd21rQ",
        "colab_type": "code",
        "colab": {}
      },
      "source": [
        "import keras\n",
        "from keras.layers import Conv2D, MaxPooling2D, Dense, Flatten, Dropout"
      ],
      "execution_count": 0,
      "outputs": []
    },
    {
      "cell_type": "code",
      "metadata": {
        "id": "TRfsefyl2-te",
        "colab_type": "code",
        "outputId": "724f84d4-580f-4deb-c1a4-3dc01cc49f13",
        "colab": {
          "base_uri": "https://localhost:8080/",
          "height": 34
        }
      },
      "source": [
        "(x_train, y_train), (x_test, y_test)  = mnist.load_data()\n",
        "print(x_train.shape, x_test.shape, y_test.shape, y_train.shape)"
      ],
      "execution_count": 0,
      "outputs": [
        {
          "output_type": "stream",
          "text": [
            "(60000, 28, 28) (10000, 28, 28) (10000,) (60000,)\n"
          ],
          "name": "stdout"
        }
      ]
    },
    {
      "cell_type": "code",
      "metadata": {
        "id": "KXeqVNRVY0zw",
        "colab_type": "code",
        "outputId": "4faf2727-4e80-4f57-9fec-0c87673448cd",
        "colab": {
          "base_uri": "https://localhost:8080/",
          "height": 67
        }
      },
      "source": [
        "img_rows = x_train[0].shape[0]\n",
        "img_cols = x_train[0].shape[1]\n",
        "x_train = x_train.reshape(x_train.shape[0], img_rows, img_cols, 1)\n",
        "x_test = x_test.reshape(x_test.shape[0], img_rows, img_cols, 1)\n",
        "\n",
        "input_shape = (img_rows, img_cols, 1)\n",
        "\n",
        "x_train = x_train.astype('float32')\n",
        "x_test = x_test.astype('float32')\n",
        "\n",
        "x_train /= 255\n",
        "x_test /= 255\n",
        "\n",
        "print('x_train shape:', x_train.shape)\n",
        "print(x_train.shape[0], 'train samples')\n",
        "print(x_test.shape[0], 'test samples')"
      ],
      "execution_count": 0,
      "outputs": [
        {
          "output_type": "stream",
          "text": [
            "x_train shape: (60000, 28, 28, 1)\n",
            "60000 train samples\n",
            "10000 test samples\n"
          ],
          "name": "stdout"
        }
      ]
    },
    {
      "cell_type": "code",
      "metadata": {
        "id": "_lp5Sd7VY3WH",
        "colab_type": "code",
        "outputId": "8d298a4d-8cde-4cc3-df3c-ce190fd46c75",
        "colab": {
          "base_uri": "https://localhost:8080/",
          "height": 34
        }
      },
      "source": [
        "from keras.utils import np_utils\n",
        "\n",
        "y_train = np_utils.to_categorical(y_train)\n",
        "y_test = np_utils.to_categorical(y_test)\n",
        "\n",
        "print (\"Number of Classes: \" + str(y_test.shape[1]))\n",
        "\n",
        "num_classes = y_test.shape[1]\n",
        "num_pixels = x_train.shape[1] * x_train.shape[2]"
      ],
      "execution_count": 0,
      "outputs": [
        {
          "output_type": "stream",
          "text": [
            "Number of Classes: 10\n"
          ],
          "name": "stdout"
        }
      ]
    },
    {
      "cell_type": "code",
      "metadata": {
        "id": "_4QWvAxXY5IQ",
        "colab_type": "code",
        "outputId": "b617bd15-a7b2-4920-90cf-fc9ab15ef3cd",
        "colab": {
          "base_uri": "https://localhost:8080/",
          "height": 454
        }
      },
      "source": [
        "model = keras.models.Sequential()\n",
        "\n",
        "model.add(Conv2D(filters = 64, \n",
        "                 kernel_size = (3,3),\n",
        "                 activation = 'relu', \n",
        "                 input_shape = input_shape))\n",
        "model.add(Conv2D(filters = 64,\n",
        "                kernel_size = (3,3),\n",
        "                activation = 'relu'))\n",
        "model.add(MaxPooling2D())\n",
        "model.add(Dropout(0.5))\n",
        "model.add(Flatten())\n",
        "model.add(Dense(units=128, activation='relu'))\n",
        "model.add(Dropout(0.5))\n",
        "model.add(Dense(units=512))\n",
        "model.add(Dense(num_classes, activation='softmax'))\n",
        "\n",
        "model.compile(loss = 'categorical_crossentropy',\n",
        "             optimizer = SGD(),\n",
        "             metrics = ['accuracy'])\n",
        "\n",
        "model.summary()"
      ],
      "execution_count": 0,
      "outputs": [
        {
          "output_type": "stream",
          "text": [
            "Model: \"sequential_1\"\n",
            "_________________________________________________________________\n",
            "Layer (type)                 Output Shape              Param #   \n",
            "=================================================================\n",
            "conv2d_1 (Conv2D)            (None, 26, 26, 64)        640       \n",
            "_________________________________________________________________\n",
            "conv2d_2 (Conv2D)            (None, 24, 24, 64)        36928     \n",
            "_________________________________________________________________\n",
            "max_pooling2d_1 (MaxPooling2 (None, 12, 12, 64)        0         \n",
            "_________________________________________________________________\n",
            "dropout_1 (Dropout)          (None, 12, 12, 64)        0         \n",
            "_________________________________________________________________\n",
            "flatten_1 (Flatten)          (None, 9216)              0         \n",
            "_________________________________________________________________\n",
            "dense_1 (Dense)              (None, 128)               1179776   \n",
            "_________________________________________________________________\n",
            "dropout_2 (Dropout)          (None, 128)               0         \n",
            "_________________________________________________________________\n",
            "dense_2 (Dense)              (None, 512)               66048     \n",
            "_________________________________________________________________\n",
            "dense_3 (Dense)              (None, 10)                5130      \n",
            "=================================================================\n",
            "Total params: 1,288,522\n",
            "Trainable params: 1,288,522\n",
            "Non-trainable params: 0\n",
            "_________________________________________________________________\n"
          ],
          "name": "stdout"
        }
      ]
    },
    {
      "cell_type": "code",
      "metadata": {
        "id": "ut2DJ17uY8CE",
        "colab_type": "code",
        "outputId": "2597308f-0373-4e9b-a140-3f3cfc396e5b",
        "colab": {
          "base_uri": "https://localhost:8080/",
          "height": 1000
        }
      },
      "source": [
        "batch_size = 64\n",
        "epochs = 40\n",
        "\n",
        "history = model.fit(x = x_train,\n",
        "                   y = y_train,\n",
        "                   epochs = epochs,\n",
        "                   batch_size = batch_size,\n",
        "                   verbose = 1,\n",
        "                   validation_data = (x_test, y_test))\n",
        "\n",
        "score = model.evaluate(x_test, y_test, verbose=0)\n",
        "print('Test loss:', score[0])\n",
        "print('Test accuracy:', score[1])"
      ],
      "execution_count": 8,
      "outputs": [
        {
          "output_type": "stream",
          "text": [
            "Train on 60000 samples, validate on 10000 samples\n",
            "Epoch 1/40\n",
            "60000/60000 [==============================] - 245s 4ms/step - loss: 0.0504 - accuracy: 0.9840 - val_loss: 0.0279 - val_accuracy: 0.9913\n",
            "Epoch 2/40\n",
            "60000/60000 [==============================] - 245s 4ms/step - loss: 0.0466 - accuracy: 0.9855 - val_loss: 0.0280 - val_accuracy: 0.9913\n",
            "Epoch 3/40\n",
            "60000/60000 [==============================] - 245s 4ms/step - loss: 0.0460 - accuracy: 0.9850 - val_loss: 0.0275 - val_accuracy: 0.9911\n",
            "Epoch 4/40\n",
            "60000/60000 [==============================] - 244s 4ms/step - loss: 0.0461 - accuracy: 0.9855 - val_loss: 0.0279 - val_accuracy: 0.9913\n",
            "Epoch 5/40\n",
            "60000/60000 [==============================] - 244s 4ms/step - loss: 0.0448 - accuracy: 0.9858 - val_loss: 0.0277 - val_accuracy: 0.9904\n",
            "Epoch 6/40\n",
            "60000/60000 [==============================] - 243s 4ms/step - loss: 0.0450 - accuracy: 0.9857 - val_loss: 0.0283 - val_accuracy: 0.9910\n",
            "Epoch 7/40\n",
            "60000/60000 [==============================] - 243s 4ms/step - loss: 0.0423 - accuracy: 0.9864 - val_loss: 0.0269 - val_accuracy: 0.9917\n",
            "Epoch 8/40\n",
            "60000/60000 [==============================] - 244s 4ms/step - loss: 0.0415 - accuracy: 0.9869 - val_loss: 0.0271 - val_accuracy: 0.9919\n",
            "Epoch 9/40\n",
            "60000/60000 [==============================] - 244s 4ms/step - loss: 0.0394 - accuracy: 0.9878 - val_loss: 0.0282 - val_accuracy: 0.9910\n",
            "Epoch 10/40\n",
            "60000/60000 [==============================] - 244s 4ms/step - loss: 0.0404 - accuracy: 0.9871 - val_loss: 0.0263 - val_accuracy: 0.9919\n",
            "Epoch 11/40\n",
            "60000/60000 [==============================] - 244s 4ms/step - loss: 0.0402 - accuracy: 0.9871 - val_loss: 0.0274 - val_accuracy: 0.9915\n",
            "Epoch 12/40\n",
            "60000/60000 [==============================] - 244s 4ms/step - loss: 0.0393 - accuracy: 0.9877 - val_loss: 0.0273 - val_accuracy: 0.9919\n",
            "Epoch 13/40\n",
            "60000/60000 [==============================] - 245s 4ms/step - loss: 0.0396 - accuracy: 0.9874 - val_loss: 0.0274 - val_accuracy: 0.9914\n",
            "Epoch 14/40\n",
            "60000/60000 [==============================] - 245s 4ms/step - loss: 0.0374 - accuracy: 0.9883 - val_loss: 0.0255 - val_accuracy: 0.9924\n",
            "Epoch 15/40\n",
            "60000/60000 [==============================] - 244s 4ms/step - loss: 0.0368 - accuracy: 0.9878 - val_loss: 0.0266 - val_accuracy: 0.9921\n",
            "Epoch 16/40\n",
            "60000/60000 [==============================] - 244s 4ms/step - loss: 0.0369 - accuracy: 0.9878 - val_loss: 0.0269 - val_accuracy: 0.9918\n",
            "Epoch 17/40\n",
            "60000/60000 [==============================] - 245s 4ms/step - loss: 0.0362 - accuracy: 0.9881 - val_loss: 0.0269 - val_accuracy: 0.9921\n",
            "Epoch 18/40\n",
            "60000/60000 [==============================] - 243s 4ms/step - loss: 0.0358 - accuracy: 0.9880 - val_loss: 0.0274 - val_accuracy: 0.9915\n",
            "Epoch 19/40\n",
            "60000/60000 [==============================] - 244s 4ms/step - loss: 0.0355 - accuracy: 0.9886 - val_loss: 0.0268 - val_accuracy: 0.9916\n",
            "Epoch 20/40\n",
            "60000/60000 [==============================] - 244s 4ms/step - loss: 0.0349 - accuracy: 0.9885 - val_loss: 0.0261 - val_accuracy: 0.9923\n",
            "Epoch 21/40\n",
            "60000/60000 [==============================] - 246s 4ms/step - loss: 0.0351 - accuracy: 0.9886 - val_loss: 0.0261 - val_accuracy: 0.9919\n",
            "Epoch 22/40\n",
            "60000/60000 [==============================] - 244s 4ms/step - loss: 0.0335 - accuracy: 0.9889 - val_loss: 0.0267 - val_accuracy: 0.9922\n",
            "Epoch 23/40\n",
            "60000/60000 [==============================] - 244s 4ms/step - loss: 0.0334 - accuracy: 0.9893 - val_loss: 0.0253 - val_accuracy: 0.9919\n",
            "Epoch 24/40\n",
            "60000/60000 [==============================] - 249s 4ms/step - loss: 0.0331 - accuracy: 0.9897 - val_loss: 0.0267 - val_accuracy: 0.9920\n",
            "Epoch 25/40\n",
            "60000/60000 [==============================] - 245s 4ms/step - loss: 0.0314 - accuracy: 0.9900 - val_loss: 0.0270 - val_accuracy: 0.9919\n",
            "Epoch 26/40\n",
            "60000/60000 [==============================] - 245s 4ms/step - loss: 0.0318 - accuracy: 0.9894 - val_loss: 0.0251 - val_accuracy: 0.9926\n",
            "Epoch 27/40\n",
            "60000/60000 [==============================] - 251s 4ms/step - loss: 0.0319 - accuracy: 0.9891 - val_loss: 0.0252 - val_accuracy: 0.9925\n",
            "Epoch 28/40\n",
            "60000/60000 [==============================] - 246s 4ms/step - loss: 0.0325 - accuracy: 0.9901 - val_loss: 0.0262 - val_accuracy: 0.9921\n",
            "Epoch 29/40\n",
            "60000/60000 [==============================] - 244s 4ms/step - loss: 0.0318 - accuracy: 0.9892 - val_loss: 0.0269 - val_accuracy: 0.9917\n",
            "Epoch 30/40\n",
            "60000/60000 [==============================] - 245s 4ms/step - loss: 0.0303 - accuracy: 0.9900 - val_loss: 0.0257 - val_accuracy: 0.9924\n",
            "Epoch 31/40\n",
            "60000/60000 [==============================] - 244s 4ms/step - loss: 0.0312 - accuracy: 0.9894 - val_loss: 0.0279 - val_accuracy: 0.9919\n",
            "Epoch 32/40\n",
            "60000/60000 [==============================] - 245s 4ms/step - loss: 0.0309 - accuracy: 0.9899 - val_loss: 0.0261 - val_accuracy: 0.9920\n",
            "Epoch 33/40\n",
            "60000/60000 [==============================] - 246s 4ms/step - loss: 0.0303 - accuracy: 0.9905 - val_loss: 0.0263 - val_accuracy: 0.9922\n",
            "Epoch 34/40\n",
            "60000/60000 [==============================] - 249s 4ms/step - loss: 0.0292 - accuracy: 0.9901 - val_loss: 0.0267 - val_accuracy: 0.9919\n",
            "Epoch 35/40\n",
            "60000/60000 [==============================] - 248s 4ms/step - loss: 0.0293 - accuracy: 0.9901 - val_loss: 0.0256 - val_accuracy: 0.9925\n",
            "Epoch 36/40\n",
            "60000/60000 [==============================] - 245s 4ms/step - loss: 0.0301 - accuracy: 0.9899 - val_loss: 0.0258 - val_accuracy: 0.9922\n",
            "Epoch 37/40\n",
            "60000/60000 [==============================] - 247s 4ms/step - loss: 0.0289 - accuracy: 0.9904 - val_loss: 0.0263 - val_accuracy: 0.9923\n",
            "Epoch 38/40\n",
            "60000/60000 [==============================] - 246s 4ms/step - loss: 0.0283 - accuracy: 0.9908 - val_loss: 0.0262 - val_accuracy: 0.9924\n",
            "Epoch 39/40\n",
            "60000/60000 [==============================] - 248s 4ms/step - loss: 0.0278 - accuracy: 0.9914 - val_loss: 0.0264 - val_accuracy: 0.9925\n",
            "Epoch 40/40\n",
            "60000/60000 [==============================] - 247s 4ms/step - loss: 0.0268 - accuracy: 0.9905 - val_loss: 0.0260 - val_accuracy: 0.9922\n",
            "Test loss: 0.025982167058079448\n",
            "Test accuracy: 0.9922000169754028\n"
          ],
          "name": "stdout"
        }
      ]
    },
    {
      "cell_type": "code",
      "metadata": {
        "id": "sf93OwhRgc_b",
        "colab_type": "code",
        "colab": {}
      },
      "source": [
        "!pip install -U -q PyDrive\n",
        "from pydrive.auth import GoogleAuth\n",
        "from pydrive.drive import GoogleDrive \n",
        "from google.colab import auth \n",
        "from oauth2client.client import GoogleCredentials"
      ],
      "execution_count": 0,
      "outputs": []
    },
    {
      "cell_type": "code",
      "metadata": {
        "id": "ZE_M5f7lxBnv",
        "colab_type": "code",
        "colab": {}
      },
      "source": [
        "auth.authenticate_user()\n",
        "gauth = GoogleAuth()\n",
        "gauth.credentials = GoogleCredentials.get_application_default()\n",
        "drive = GoogleDrive(gauth)"
      ],
      "execution_count": 0,
      "outputs": []
    },
    {
      "cell_type": "code",
      "metadata": {
        "id": "yJ_oxtwZxFyS",
        "colab_type": "code",
        "colab": {}
      },
      "source": [
        "auth.authenticate_user()\n",
        "gauth = GoogleAuth()\n",
        "gauth.credentials = GoogleCredentials.get_application_default()\n",
        "drive = GoogleDrive(gauth)"
      ],
      "execution_count": 0,
      "outputs": []
    },
    {
      "cell_type": "code",
      "metadata": {
        "id": "n60xG5SjxIXC",
        "colab_type": "code",
        "colab": {}
      },
      "source": [
        "model.save('model.h5')\n",
        "model_file = drive.CreateFile({'title' : 'model.h5'})\n",
        "model_file.SetContentFile('model.h5')\n",
        "model_file.Upload()"
      ],
      "execution_count": 0,
      "outputs": []
    },
    {
      "cell_type": "code",
      "metadata": {
        "id": "JTE2r9_SxUM5",
        "colab_type": "code",
        "colab": {
          "base_uri": "https://localhost:8080/",
          "height": 34
        },
        "outputId": "106da716-860b-4fa9-b972-3d5aa8975037"
      },
      "source": [
        "drive.CreateFile({'id': model_file.get('id')})"
      ],
      "execution_count": 16,
      "outputs": [
        {
          "output_type": "execute_result",
          "data": {
            "text/plain": [
              "GoogleDriveFile({'id': '1LLt3NXkciq2LlGD4vv5PbR8ng2CkwNk4'})"
            ]
          },
          "metadata": {
            "tags": []
          },
          "execution_count": 16
        }
      ]
    },
    {
      "cell_type": "code",
      "metadata": {
        "id": "s6c5SBKaxYZb",
        "colab_type": "code",
        "colab": {}
      },
      "source": [
        ""
      ],
      "execution_count": 0,
      "outputs": []
    }
  ]
}